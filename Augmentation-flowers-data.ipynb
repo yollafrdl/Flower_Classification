{
 "cells": [
  {
   "cell_type": "code",
   "execution_count": 2,
   "metadata": {},
   "outputs": [
    {
     "name": "stderr",
     "output_type": "stream",
     "text": [
      "Using TensorFlow backend.\n"
     ]
    }
   ],
   "source": [
    "import cv2\n",
    "import numpy as np\n",
    "import glob\n",
    "import os\n",
    "import pickle\n",
    "from sklearn.preprocessing import LabelEncoder\n",
    "from keras.preprocessing.image import ImageDataGenerator, array_to_img, img_to_array, load_img\n",
    "%matplotlib inline"
   ]
  },
  {
   "cell_type": "code",
   "execution_count": 39,
   "metadata": {},
   "outputs": [],
   "source": [
    "def save_data(data, file_name):\n",
    "    with open(file_name, 'wb') as file:\n",
    "        pickle.dump(data, file)"
   ]
  },
  {
   "cell_type": "code",
   "execution_count": 27,
   "metadata": {},
   "outputs": [],
   "source": [
    "datagen = ImageDataGenerator(rotation_range = 40, horizontal_flip = True, brightness_range = (0.5, 1))"
   ]
  },
  {
   "cell_type": "code",
   "execution_count": 28,
   "metadata": {},
   "outputs": [],
   "source": [
    "path = \"Augmentation/Buttercup\"\n",
    "dirs = os.listdir(path)\n",
    "for file in dirs:\n",
    "    img = load_img(\"Augmentation/Buttercup/\"+file)\n",
    "    x = img_to_array(img) \n",
    "    x = x.reshape((1, ) + x.shape)  \n",
    "    i = 0\n",
    "    for batch in datagen.flow(x, batch_size = 16, \n",
    "                      save_to_dir ='Augmentation/Buttercup',  \n",
    "                      save_prefix ='Buttercup-', save_format ='jpeg'):\n",
    "        i += 1\n",
    "        if i > 3: \n",
    "            break"
   ]
  },
  {
   "cell_type": "code",
   "execution_count": 29,
   "metadata": {},
   "outputs": [],
   "source": [
    "path = \"Augmentation/Coltsfoot\"\n",
    "dirs = os.listdir(path)\n",
    "for file in dirs:\n",
    "    img = load_img(\"Augmentation/Coltsfoot/\"+file)\n",
    "    x = img_to_array(img) \n",
    "    x = x.reshape((1, ) + x.shape)  \n",
    "    i = 0\n",
    "    for batch in datagen.flow(x, batch_size = 16, \n",
    "                      save_to_dir ='Augmentation/Coltsfoot',  \n",
    "                      save_prefix ='Coltsfoot-', save_format ='jpeg'):\n",
    "        i += 1\n",
    "        if i > 3: \n",
    "            break"
   ]
  },
  {
   "cell_type": "code",
   "execution_count": 30,
   "metadata": {},
   "outputs": [],
   "source": [
    "path = \"Augmentation/Daisy\"\n",
    "dirs = os.listdir(path)\n",
    "for file in dirs:\n",
    "    img = load_img(\"Augmentation/Daisy/\"+file)\n",
    "    x = img_to_array(img) \n",
    "    x = x.reshape((1, ) + x.shape)  \n",
    "    i = 0\n",
    "    for batch in datagen.flow(x, batch_size = 16, \n",
    "                      save_to_dir ='Augmentation/Daisy',  \n",
    "                      save_prefix ='Daisy-', save_format ='jpeg'):\n",
    "        i += 1\n",
    "        if i > 3: \n",
    "            break"
   ]
  },
  {
   "cell_type": "code",
   "execution_count": 31,
   "metadata": {},
   "outputs": [],
   "source": [
    "path = \"Augmentation/Dandelion\"\n",
    "dirs = os.listdir(path)\n",
    "for file in dirs:\n",
    "    img = load_img(\"Augmentation/Dandelion/\"+file)\n",
    "    x = img_to_array(img) \n",
    "    x = x.reshape((1, ) + x.shape)  \n",
    "    i = 0\n",
    "    for batch in datagen.flow(x, batch_size = 16, \n",
    "                      save_to_dir ='Augmentation/Dandelion',  \n",
    "                      save_prefix ='Dandelion-', save_format ='jpeg'):\n",
    "        i += 1\n",
    "        if i > 3: \n",
    "            break"
   ]
  },
  {
   "cell_type": "code",
   "execution_count": 32,
   "metadata": {},
   "outputs": [],
   "source": [
    "path = \"Augmentation/Windflower\"\n",
    "dirs = os.listdir(path)\n",
    "for file in dirs:\n",
    "    img = load_img(\"Augmentation/Windflower/\"+file)\n",
    "    x = img_to_array(img) \n",
    "    x = x.reshape((1, ) + x.shape)  \n",
    "    i = 0\n",
    "    for batch in datagen.flow(x, batch_size = 16, \n",
    "                      save_to_dir ='Augmentation/Windflower',  \n",
    "                      save_prefix ='Windflower-', save_format ='jpeg'):\n",
    "        i += 1\n",
    "        if i > 3: \n",
    "            break"
   ]
  },
  {
   "cell_type": "code",
   "execution_count": 33,
   "metadata": {},
   "outputs": [],
   "source": [
    "data=[]\n",
    "labels=[]\n",
    "path = \"Augmentation/Buttercup\"\n",
    "dirs = os.listdir(path)\n",
    "for file in dirs:\n",
    "    img = cv2.imread(\"Augmentation/Buttercup/\"+file)\n",
    "    gray = cv2.cvtColor(img, cv2.COLOR_BGR2GRAY)\n",
    "    data.append(gray)\n",
    "    labels.append(\"buttercup\")"
   ]
  },
  {
   "cell_type": "code",
   "execution_count": 34,
   "metadata": {},
   "outputs": [],
   "source": [
    "path = \"Augmentation/Daisy\"\n",
    "dirs = os.listdir(path)\n",
    "for file in dirs:\n",
    "    img = cv2.imread(\"Augmentation/Daisy/\"+file)\n",
    "    gray = cv2.cvtColor(img, cv2.COLOR_BGR2GRAY)\n",
    "    data.append(gray)\n",
    "    labels.append(\"daisy\")"
   ]
  },
  {
   "cell_type": "code",
   "execution_count": 35,
   "metadata": {},
   "outputs": [],
   "source": [
    "path = \"Augmentation/Dandelion\"\n",
    "dirs = os.listdir(path)\n",
    "for file in dirs:\n",
    "    img = cv2.imread(\"Augmentation/Dandelion/\"+file)\n",
    "    gray = cv2.cvtColor(img, cv2.COLOR_BGR2GRAY)\n",
    "    data.append(gray)\n",
    "    labels.append(\"dandelion\")"
   ]
  },
  {
   "cell_type": "code",
   "execution_count": 36,
   "metadata": {},
   "outputs": [],
   "source": [
    "path = \"Augmentation/Coltsfoot\"\n",
    "dirs = os.listdir(path)\n",
    "for file in dirs:\n",
    "    img = cv2.imread(\"Augmentation/Coltsfoot/\"+file)\n",
    "    gray = cv2.cvtColor(img, cv2.COLOR_BGR2GRAY)\n",
    "    data.append(gray)\n",
    "    labels.append(\"coltsfoot\")"
   ]
  },
  {
   "cell_type": "code",
   "execution_count": 37,
   "metadata": {},
   "outputs": [],
   "source": [
    "path = \"Augmentation/Windflower\"\n",
    "dirs = os.listdir(path)\n",
    "for file in dirs:\n",
    "    img = cv2.imread(\"Augmentation/Windflower/\"+file)\n",
    "    gray = cv2.cvtColor(img, cv2.COLOR_BGR2GRAY)\n",
    "    data.append(gray)\n",
    "    labels.append(\"windflower\")"
   ]
  },
  {
   "cell_type": "code",
   "execution_count": 38,
   "metadata": {},
   "outputs": [],
   "source": [
    "label_encoder = LabelEncoder()\n",
    "label = label_encoder.fit_transform(labels)"
   ]
  },
  {
   "cell_type": "code",
   "execution_count": 41,
   "metadata": {},
   "outputs": [
    {
     "data": {
      "text/plain": [
       "997"
      ]
     },
     "execution_count": 41,
     "metadata": {},
     "output_type": "execute_result"
    }
   ],
   "source": [
    "len(data)"
   ]
  },
  {
   "cell_type": "code",
   "execution_count": 43,
   "metadata": {},
   "outputs": [],
   "source": [
    "save_data(data, 'Output/Flowers_data_aug_grey.pckl')\n",
    "save_data(labels, 'Output/Flowers_aug_label.pckl')\n",
    "save_data(label, 'Output/Flowers_aug_label_encoded.pckl')"
   ]
  }
 ],
 "metadata": {
  "kernelspec": {
   "display_name": "Python 3",
   "language": "python",
   "name": "python3"
  },
  "language_info": {
   "codemirror_mode": {
    "name": "ipython",
    "version": 3
   },
   "file_extension": ".py",
   "mimetype": "text/x-python",
   "name": "python",
   "nbconvert_exporter": "python",
   "pygments_lexer": "ipython3",
   "version": "3.6.5"
  }
 },
 "nbformat": 4,
 "nbformat_minor": 2
}
