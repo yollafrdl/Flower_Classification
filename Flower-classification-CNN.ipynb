{
 "cells": [
  {
   "cell_type": "code",
   "execution_count": 101,
   "metadata": {},
   "outputs": [],
   "source": [
    "from keras.models import Sequential\n",
    "from keras.layers import Dense, Input, Conv2D, Flatten, MaxPooling2D, Dropout\n",
    "from keras.utils import to_categorical\n",
    "from keras.optimizers import Adam\n",
    "from keras.preprocessing.image import ImageDataGenerator\n",
    "from sklearn.model_selection import train_test_split\n",
    "from sklearn.metrics import confusion_matrix, classification_report, accuracy_score\n",
    "from matplotlib import pyplot as plt\n",
    "import keras\n",
    "import pickle\n",
    "import numpy as np"
   ]
  },
  {
   "cell_type": "code",
   "execution_count": 2,
   "metadata": {},
   "outputs": [],
   "source": [
    "def open_file(filename):\n",
    "    file = open(filename, \"rb\")\n",
    "    models = pickle.load(file)\n",
    "    file.close()\n",
    "    return models"
   ]
  },
  {
   "cell_type": "code",
   "execution_count": 3,
   "metadata": {},
   "outputs": [],
   "source": [
    "flowers_data = open_file('Output/Flowers_data_aug_grey.pckl')\n",
    "flowers_label = open_file('Output/Flowers_aug_label.pckl')\n",
    "flowers_label_encoded = open_file('Output/Flowers_aug_label_encoded.pckl')\n",
    "label = to_categorical(flowers_label_encoded)"
   ]
  },
  {
   "cell_type": "code",
   "execution_count": 88,
   "metadata": {},
   "outputs": [],
   "source": [
    "x_train, x_test, y_train, y_test = train_test_split(flowers_data, label, test_size = 0.2, random_state = 128)"
   ]
  },
  {
   "cell_type": "code",
   "execution_count": 89,
   "metadata": {},
   "outputs": [],
   "source": [
    "inputDim = len(x_train[0])\n",
    "outputDim = len(y_train[0])"
   ]
  },
  {
   "cell_type": "code",
   "execution_count": 90,
   "metadata": {},
   "outputs": [],
   "source": [
    "x_train = np.expand_dims(x_train, axis=3)\n",
    "x_test = np.expand_dims(x_test, axis=3)"
   ]
  },
  {
   "cell_type": "code",
   "execution_count": 91,
   "metadata": {},
   "outputs": [
    {
     "name": "stdout",
     "output_type": "stream",
     "text": [
      "_________________________________________________________________\n",
      "Layer (type)                 Output Shape              Param #   \n",
      "=================================================================\n",
      "conv2d_41 (Conv2D)           (None, 248, 298, 8)       80        \n",
      "_________________________________________________________________\n",
      "max_pooling2d_21 (MaxPooling (None, 124, 149, 8)       0         \n",
      "_________________________________________________________________\n",
      "conv2d_42 (Conv2D)           (None, 122, 147, 16)      1168      \n",
      "_________________________________________________________________\n",
      "conv2d_43 (Conv2D)           (None, 120, 145, 32)      4640      \n",
      "_________________________________________________________________\n",
      "max_pooling2d_22 (MaxPooling (None, 60, 72, 32)        0         \n",
      "_________________________________________________________________\n",
      "conv2d_44 (Conv2D)           (None, 58, 70, 64)        18496     \n",
      "_________________________________________________________________\n",
      "flatten_11 (Flatten)         (None, 259840)            0         \n",
      "_________________________________________________________________\n",
      "dropout_21 (Dropout)         (None, 259840)            0         \n",
      "_________________________________________________________________\n",
      "dense_41 (Dense)             (None, 128)               33259648  \n",
      "_________________________________________________________________\n",
      "dropout_22 (Dropout)         (None, 128)               0         \n",
      "_________________________________________________________________\n",
      "dense_42 (Dense)             (None, 64)                8256      \n",
      "_________________________________________________________________\n",
      "dense_43 (Dense)             (None, 32)                2080      \n",
      "_________________________________________________________________\n",
      "dense_44 (Dense)             (None, 5)                 165       \n",
      "=================================================================\n",
      "Total params: 33,294,533\n",
      "Trainable params: 33,294,533\n",
      "Non-trainable params: 0\n",
      "_________________________________________________________________\n"
     ]
    }
   ],
   "source": [
    "model = Sequential()\n",
    "model.add(Conv2D(8, kernel_size = 3, activation = 'relu', input_shape=(250,300,1)))\n",
    "model.add(MaxPooling2D(pool_size=(2, 2), strides=(2, 2)))\n",
    "model.add(Conv2D(16, kernel_size = 3, activation = 'relu'))\n",
    "model.add(Conv2D(32, kernel_size = 3, activation = 'relu'))\n",
    "model.add(MaxPooling2D(pool_size=(2, 2), strides=(2, 2)))\n",
    "model.add(Conv2D(64, kernel_size = 3, activation = 'relu'))\n",
    "# model.add(MaxPooling2D(pool_size=(2, 2), strides=(2, 2)))\n",
    "model.add(Flatten())\n",
    "model.add(Dropout(0.8))\n",
    "model.add(Dense(128, activation='relu'))\n",
    "model.add(Dropout(0.2))\n",
    "model.add(Dense(64, activation='relu'))\n",
    "model.add(Dense(32, activation='relu'))\n",
    "model.add(Dense(outputDim, activation = 'softmax'))\n",
    "\n",
    "model.summary()"
   ]
  },
  {
   "cell_type": "code",
   "execution_count": 92,
   "metadata": {},
   "outputs": [
    {
     "name": "stdout",
     "output_type": "stream",
     "text": [
      "Epoch 1/50\n",
      "797/797 [==============================] - 67s 84ms/step - loss: 2.2357 - acc: 0.2083 - mean_squared_error: 0.1858\n",
      "Epoch 2/50\n",
      "797/797 [==============================] - 67s 84ms/step - loss: 1.5921 - acc: 0.2196 - mean_squared_error: 0.1586\n",
      "Epoch 3/50\n",
      "797/797 [==============================] - 72s 90ms/step - loss: 1.5493 - acc: 0.2622 - mean_squared_error: 0.1553\n",
      "Epoch 4/50\n",
      "797/797 [==============================] - 73s 92ms/step - loss: 1.5208 - acc: 0.3099 - mean_squared_error: 0.1528\n",
      "Epoch 5/50\n",
      "797/797 [==============================] - 70s 87ms/step - loss: 1.4594 - acc: 0.3639 - mean_squared_error: 0.1475\n",
      "Epoch 6/50\n",
      "797/797 [==============================] - 63s 79ms/step - loss: 1.3566 - acc: 0.4479 - mean_squared_error: 0.1383\n",
      "Epoch 7/50\n",
      "797/797 [==============================] - 63s 79ms/step - loss: 1.2103 - acc: 0.5245 - mean_squared_error: 0.1256\n",
      "Epoch 8/50\n",
      "797/797 [==============================] - 65s 81ms/step - loss: 1.9777 - acc: 0.3112 - mean_squared_error: 0.1806\n",
      "Epoch 9/50\n",
      "797/797 [==============================] - 66s 82ms/step - loss: 1.4690 - acc: 0.4253 - mean_squared_error: 0.1480\n",
      "Epoch 10/50\n",
      "797/797 [==============================] - 72s 90ms/step - loss: 1.2884 - acc: 0.4981 - mean_squared_error: 0.1326\n",
      "Epoch 11/50\n",
      "797/797 [==============================] - 70s 88ms/step - loss: 1.5990 - acc: 0.4166 - mean_squared_error: 0.1587\n",
      "Epoch 12/50\n",
      "797/797 [==============================] - 67s 85ms/step - loss: 1.3838 - acc: 0.4868 - mean_squared_error: 0.1397\n",
      "Epoch 13/50\n",
      "797/797 [==============================] - 64s 80ms/step - loss: 1.1961 - acc: 0.5546 - mean_squared_error: 0.1229\n",
      "Epoch 14/50\n",
      "797/797 [==============================] - 63s 79ms/step - loss: 1.1035 - acc: 0.5759 - mean_squared_error: 0.1133\n",
      "Epoch 15/50\n",
      "797/797 [==============================] - 62s 78ms/step - loss: 1.6453 - acc: 0.4178 - mean_squared_error: 0.1564\n",
      "Epoch 16/50\n",
      "797/797 [==============================] - 65s 82ms/step - loss: 1.5182 - acc: 0.3639 - mean_squared_error: 0.1525\n",
      "Epoch 17/50\n",
      "797/797 [==============================] - 64s 81ms/step - loss: 1.3671 - acc: 0.4241 - mean_squared_error: 0.1401\n",
      "Epoch 18/50\n",
      "797/797 [==============================] - 60s 75ms/step - loss: 1.0550 - acc: 0.5634 - mean_squared_error: 0.1096\n",
      "Epoch 19/50\n",
      "797/797 [==============================] - 60s 76ms/step - loss: 0.8668 - acc: 0.6688 - mean_squared_error: 0.0905\n",
      "Epoch 20/50\n",
      "797/797 [==============================] - 59s 74ms/step - loss: 1.2161 - acc: 0.5169 - mean_squared_error: 0.1246\n",
      "Epoch 21/50\n",
      "797/797 [==============================] - 66s 83ms/step - loss: 1.4537 - acc: 0.4580 - mean_squared_error: 0.1465\n",
      "Epoch 22/50\n",
      "797/797 [==============================] - 61s 76ms/step - loss: 1.3161 - acc: 0.5358 - mean_squared_error: 0.1340\n",
      "Epoch 23/50\n",
      "797/797 [==============================] - 60s 75ms/step - loss: 0.9312 - acc: 0.6412 - mean_squared_error: 0.0975\n",
      "Epoch 24/50\n",
      "797/797 [==============================] - 60s 75ms/step - loss: 0.7891 - acc: 0.7302 - mean_squared_error: 0.0800\n",
      "Epoch 25/50\n",
      "797/797 [==============================] - 60s 75ms/step - loss: 0.5213 - acc: 0.8005 - mean_squared_error: 0.0557\n",
      "Epoch 26/50\n",
      "797/797 [==============================] - 59s 74ms/step - loss: 0.7703 - acc: 0.7277 - mean_squared_error: 0.0788\n",
      "Epoch 27/50\n",
      "797/797 [==============================] - 60s 75ms/step - loss: 0.4404 - acc: 0.8331 - mean_squared_error: 0.0477\n",
      "Epoch 28/50\n",
      "797/797 [==============================] - 61s 77ms/step - loss: 0.4627 - acc: 0.8407 - mean_squared_error: 0.0473\n",
      "Epoch 29/50\n",
      "797/797 [==============================] - 59s 75ms/step - loss: 0.2777 - acc: 0.8996 - mean_squared_error: 0.0300\n",
      "Epoch 30/50\n",
      "797/797 [==============================] - 61s 77ms/step - loss: 0.2541 - acc: 0.9122 - mean_squared_error: 0.0267\n",
      "Epoch 31/50\n",
      "797/797 [==============================] - 59s 74ms/step - loss: 0.2410 - acc: 0.9097 - mean_squared_error: 0.0255\n",
      "Epoch 32/50\n",
      "797/797 [==============================] - 59s 74ms/step - loss: 0.1710 - acc: 0.9423 - mean_squared_error: 0.0178\n",
      "Epoch 33/50\n",
      "797/797 [==============================] - 62s 77ms/step - loss: 0.1849 - acc: 0.9423 - mean_squared_error: 0.0190\n",
      "Epoch 34/50\n",
      "797/797 [==============================] - 59s 74ms/step - loss: 0.1266 - acc: 0.9561 - mean_squared_error: 0.0133\n",
      "Epoch 35/50\n",
      "797/797 [==============================] - 60s 75ms/step - loss: 0.1251 - acc: 0.9598 - mean_squared_error: 0.0128\n",
      "Epoch 36/50\n",
      "797/797 [==============================] - 60s 76ms/step - loss: 0.1894 - acc: 0.9435 - mean_squared_error: 0.0182\n",
      "Epoch 37/50\n",
      "797/797 [==============================] - 60s 76ms/step - loss: 0.1173 - acc: 0.9624 - mean_squared_error: 0.0119\n",
      "Epoch 38/50\n",
      "797/797 [==============================] - 60s 76ms/step - loss: 0.0823 - acc: 0.9749 - mean_squared_error: 0.0083\n",
      "Epoch 39/50\n",
      "797/797 [==============================] - 60s 75ms/step - loss: 0.0708 - acc: 0.9749 - mean_squared_error: 0.0070\n",
      "Epoch 40/50\n",
      "797/797 [==============================] - 60s 75ms/step - loss: 0.0730 - acc: 0.9774 - mean_squared_error: 0.0074\n",
      "Epoch 41/50\n",
      "797/797 [==============================] - 61s 77ms/step - loss: 0.0870 - acc: 0.9724 - mean_squared_error: 0.0088\n",
      "Epoch 42/50\n",
      "797/797 [==============================] - 60s 75ms/step - loss: 0.0617 - acc: 0.9824 - mean_squared_error: 0.0061\n",
      "Epoch 43/50\n",
      "797/797 [==============================] - 62s 77ms/step - loss: 0.0823 - acc: 0.9711 - mean_squared_error: 0.0086\n",
      "Epoch 44/50\n",
      "797/797 [==============================] - 61s 76ms/step - loss: 0.0582 - acc: 0.9812 - mean_squared_error: 0.0052\n",
      "Epoch 45/50\n",
      "797/797 [==============================] - 60s 75ms/step - loss: 0.1153 - acc: 0.9624 - mean_squared_error: 0.0113\n",
      "Epoch 46/50\n",
      "797/797 [==============================] - 62s 77ms/step - loss: 0.0652 - acc: 0.9799 - mean_squared_error: 0.0064\n",
      "Epoch 47/50\n",
      "797/797 [==============================] - 61s 77ms/step - loss: 0.0533 - acc: 0.9799 - mean_squared_error: 0.0058\n",
      "Epoch 48/50\n",
      "797/797 [==============================] - 60s 75ms/step - loss: 0.0496 - acc: 0.9862 - mean_squared_error: 0.0046\n",
      "Epoch 49/50\n",
      "797/797 [==============================] - 59s 74ms/step - loss: 0.0355 - acc: 0.9887 - mean_squared_error: 0.0035\n",
      "Epoch 50/50\n",
      "797/797 [==============================] - 60s 76ms/step - loss: 0.0340 - acc: 0.9950 - mean_squared_error: 0.0026\n"
     ]
    }
   ],
   "source": [
    "model.compile(loss = 'categorical_crossentropy', optimizer = 'sgd', metrics = ['accuracy','mse'])\n",
    "cnn_model = model.fit(x_train, y_train, epochs = 50, batch_size = 128)"
   ]
  },
  {
   "cell_type": "code",
   "execution_count": 106,
   "metadata": {},
   "outputs": [
    {
     "name": "stdout",
     "output_type": "stream",
     "text": [
      "dict_keys(['loss', 'acc', 'mean_squared_error'])\n"
     ]
    },
    {
     "data": {
      "image/png": "[encoded data removed]",
      "text/plain": [
       "<Figure size 432x288 with 1 Axes>"
      ]
     },
     "metadata": {},
     "output_type": "display_data"
    }
   ],
   "source": [
    "print(cnn_model.history.keys())\n",
    "plt.plot(cnn_model.history['acc'])\n",
    "plt.title('Model Accuracy')\n",
    "plt.ylabel('accuracy')\n",
    "plt.xlabel('epoch')\n",
    "plt.show()"
   ]
  },
  {
   "cell_type": "code",
   "execution_count": 110,
   "metadata": {},
   "outputs": [
    {
     "data": {
      "image/png": "[encoded data removed]",
      "text/plain": [
       "<Figure size 432x288 with 1 Axes>"
      ]
     },
     "metadata": {},
     "output_type": "display_data"
    }
   ],
   "source": [
    "plt.plot(cnn_model.history['mean_squared_error'])\n",
    "plt.title('Model MSE')\n",
    "plt.ylabel('mean squared error')\n",
    "plt.xlabel('epoch')\n",
    "plt.show()"
   ]
  },
  {
   "cell_type": "code",
   "execution_count": 93,
   "metadata": {},
   "outputs": [],
   "source": [
    "y_prob = model.predict(x_test)\n",
    "Y_pred = y_prob.argmax(axis=-1)\n",
    "Y_test = y_test.argmax(axis=-1)"
   ]
  },
  {
   "cell_type": "code",
   "execution_count": 95,
   "metadata": {},
   "outputs": [
    {
     "name": "stdout",
     "output_type": "stream",
     "text": [
      "              precision    recall  f1-score   support\n",
      "\n",
      "           0       0.67      0.80      0.73        30\n",
      "           1       0.71      0.67      0.69        43\n",
      "           2       0.50      0.70      0.58        46\n",
      "           3       0.76      0.83      0.79        35\n",
      "           4       0.90      0.41      0.57        46\n",
      "\n",
      "   micro avg       0.67      0.67      0.67       200\n",
      "   macro avg       0.71      0.68      0.67       200\n",
      "weighted avg       0.71      0.67      0.66       200\n",
      "\n"
     ]
    }
   ],
   "source": [
    "print(classification_report(Y_test, Y_pred))"
   ]
  },
  {
   "cell_type": "code",
   "execution_count": 97,
   "metadata": {},
   "outputs": [
    {
     "name": "stdout",
     "output_type": "stream",
     "text": [
      "[[24  1  4  0  1]\n",
      " [ 3 29  7  4  0]\n",
      " [ 3  6 32  4  1]\n",
      " [ 0  3  3 29  0]\n",
      " [ 6  2 18  1 19]]\n"
     ]
    }
   ],
   "source": [
    "print(confusion_matrix(Y_test, Y_pred))"
   ]
  },
  {
   "cell_type": "code",
   "execution_count": 98,
   "metadata": {},
   "outputs": [
    {
     "name": "stdout",
     "output_type": "stream",
     "text": [
      "0.665\n"
     ]
    }
   ],
   "source": [
    "print(accuracy_score(Y_test, Y_pred))"
   ]
  },
  {
   "cell_type": "code",
   "execution_count": 111,
   "metadata": {},
   "outputs": [],
   "source": [
    "model.save_weights(\"Output/CNN_model.h5\")"
   ]
  }
 ],
 "metadata": {
  "kernelspec": {
   "display_name": "Python 3",
   "language": "python",
   "name": "python3"
  },
  "language_info": {
   "codemirror_mode": {
    "name": "ipython",
    "version": 3
   },
   "file_extension": ".py",
   "mimetype": "text/x-python",
   "name": "python",
   "nbconvert_exporter": "python",
   "pygments_lexer": "ipython3",
   "version": "3.6.5"
  }
 },
 "nbformat": 4,
 "nbformat_minor": 2
}
