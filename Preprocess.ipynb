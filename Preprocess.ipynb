{
 "cells": [
  {
   "cell_type": "code",
   "execution_count": 1,
   "metadata": {},
   "outputs": [],
   "source": [
    "import cv2\n",
    "import numpy as np \n",
    "from matplotlib import pyplot as plt\n",
    "import glob\n",
    "import os\n",
    "import pickle\n",
    "from sklearn.preprocessing import LabelEncoder\n",
    "%matplotlib inline"
   ]
  },
  {
   "cell_type": "code",
   "execution_count": 2,
   "metadata": {},
   "outputs": [],
   "source": [
    "def crop_img(img,gray):\n",
    "    retval, thresh_gray = cv2.threshold(gray, 127, 255, 0)\n",
    "\n",
    "    contours, hierarchy = cv2.findContours(thresh_gray,cv2.RETR_LIST, cv2.CHAIN_APPROX_SIMPLE)\n",
    "\n",
    "    # Find object with the biggest bounding box\n",
    "    mx = (0,0,0,0)      # biggest bounding box so far\n",
    "    mx_area = 0\n",
    "    for cont in contours:\n",
    "        x,y,w,h = cv2.boundingRect(cont)\n",
    "        area = w*h\n",
    "        if area > mx_area:\n",
    "            mx = x,y,w,h\n",
    "            mx_area = area\n",
    "    x,y,w,h = mx\n",
    "\n",
    "    # Output to files\n",
    "    roi = cv2.rectangle(img,(x,y),(x+w,y+h),(200,0,0),2)\n",
    "    crop_img = img[y:y+h,x:x+w]\n",
    "    return crop_img"
   ]
  },
  {
   "cell_type": "code",
   "execution_count": 3,
   "metadata": {},
   "outputs": [],
   "source": [
    "def mask(img_crop, segmentation):\n",
    "    img_contours = cv2.findContours(segmentation, cv2.RETR_TREE, cv2.CHAIN_APPROX_SIMPLE)[-2]\n",
    "    img_contours = sorted(img_contours, key=cv2.contourArea)\n",
    "    for i in img_contours:\n",
    "        if cv2.contourArea(i) > 100:\n",
    "            break\n",
    "    mask = np.zeros(img_crop.shape[:2], np.uint8)\n",
    "    x = cv2.drawContours(mask, [i],-1, 255, -1)\n",
    "    result = cv2.bitwise_and(img_crop,img_crop,mask = mask)\n",
    "    return result"
   ]
  },
  {
   "cell_type": "code",
   "execution_count": 4,
   "metadata": {},
   "outputs": [],
   "source": [
    "def segmentationL(img_crop):\n",
    "    lab = cv2.cvtColor(img_crop, cv2.COLOR_BGR2Lab)\n",
    "    median = cv2.medianBlur(lab,5)\n",
    "    ret3,th3 = cv2.threshold(median[:,:,0],0,255,cv2.THRESH_OTSU)\n",
    "    kernel = np.ones((19,19), np.uint8)\n",
    "    closing = cv2.morphologyEx(th3, cv2.MORPH_CLOSE, kernel)\n",
    "    opening = cv2.morphologyEx(closing, cv2.MORPH_OPEN, kernel)\n",
    "    img_dilation = cv2.dilate(opening, kernel, iterations=1) \n",
    "    return img_dilation"
   ]
  },
  {
   "cell_type": "code",
   "execution_count": 5,
   "metadata": {},
   "outputs": [],
   "source": [
    "def segmentationB(img_crop):\n",
    "    lab = cv2.cvtColor(img_crop, cv2.COLOR_BGR2Lab)\n",
    "    median = cv2.medianBlur(lab,5)\n",
    "    ret3,th3 = cv2.threshold(median[:,:,2],0,255,cv2.THRESH_OTSU)\n",
    "    kernel = np.ones((19,19), np.uint8) \n",
    "    closing = cv2.morphologyEx(th3, cv2.MORPH_CLOSE, kernel)\n",
    "    opening = cv2.morphologyEx(closing, cv2.MORPH_OPEN, kernel) \n",
    "    img_dilation = cv2.dilate(opening, kernel, iterations=1) \n",
    "    return img_dilation"
   ]
  },
  {
   "cell_type": "code",
   "execution_count": 6,
   "metadata": {},
   "outputs": [],
   "source": [
    "def show(img):\n",
    "    img2 = img[:,:,::-1]\n",
    "    plt.imshow(img2)"
   ]
  },
  {
   "cell_type": "code",
   "execution_count": 7,
   "metadata": {},
   "outputs": [],
   "source": [
    "def featureExtractionHSV(img_segmentation):\n",
    "    feature_matrix = np.zeros((250,300))\n",
    "    img_hsv = cv2.cvtColor(img_segmentation, cv2.COLOR_BGR2HSV)\n",
    "    for i in range(img_hsv.shape[0]):\n",
    "        for j in range(img_hsv.shape[1]):\n",
    "            feature_matrix[i][j] = (int(img_hsv[i,j,0]) + int(img_hsv[i,j,1]) + int(img_hsv[i,j,2]))/3\n",
    "    feature_hsv = np.reshape(feature_matrix, ((250 * 300)))\n",
    "    return feature_hsv\n",
    "    "
   ]
  },
  {
   "cell_type": "code",
   "execution_count": 8,
   "metadata": {},
   "outputs": [],
   "source": [
    "def featureExtractionRGB(img_segmentation):\n",
    "    feature_matrix = np.zeros((250,300))\n",
    "    for i in range(img_segmentation.shape[0]):\n",
    "        for j in range(img_segmentation.shape[1]):\n",
    "            feature_matrix[i][j] = (int(img_segmentation[i,j,0]) + int(img_segmentation[i,j,1]) + int(img_segmentation[i,j,2]))/3\n",
    "    feature_rgb = np.reshape(feature_matrix, ((250 * 300)))\n",
    "    return feature_rgb\n",
    "    "
   ]
  },
  {
   "cell_type": "code",
   "execution_count": 9,
   "metadata": {},
   "outputs": [],
   "source": [
    "def save_data(data, file_name):\n",
    "    with open(file_name, 'wb') as file:\n",
    "        pickle.dump(data, file)"
   ]
  },
  {
   "cell_type": "code",
   "execution_count": 19,
   "metadata": {},
   "outputs": [],
   "source": [
    "path = \"Segmentation Result/Buttercup\"\n",
    "dirs = os.listdir(path)\n",
    "for file in dirs:\n",
    "    img = cv2.imread(\"Data/Buttercup/\"+file)\n",
    "    gray = cv2.cvtColor(img, cv2.COLOR_BGR2GRAY)\n",
    "    img_crop = crop_img(img, gray)\n",
    "    segmentation = segmentationB(img_crop)\n",
    "    segmentation_crop = mask(img_crop, segmentation)\n",
    "    img_resize = cv2.resize(segmentation_crop, (300,250))\n",
    "    cv2.imwrite(os.path.join(path ,file), img_resize)"
   ]
  },
  {
   "cell_type": "code",
   "execution_count": 20,
   "metadata": {},
   "outputs": [],
   "source": [
    "path = \"Segmentation Result/Daisy\"\n",
    "dirs = os.listdir(path)\n",
    "for file in dirs:\n",
    "    img = cv2.imread(\"Data/Daisy/\"+file)\n",
    "    gray = cv2.cvtColor(img, cv2.COLOR_BGR2GRAY)\n",
    "    img_crop = crop_img(img, gray)\n",
    "    segmentation = segmentationL(img_crop)\n",
    "    segmentation_crop = mask(img_crop, segmentation)\n",
    "    img_resize = cv2.resize(segmentation_crop, (300,250))\n",
    "    cv2.imwrite(os.path.join(path ,file), img_resize)"
   ]
  },
  {
   "cell_type": "code",
   "execution_count": 21,
   "metadata": {},
   "outputs": [],
   "source": [
    "path = \"Segmentation Result/Dandelion\"\n",
    "dirs = os.listdir(path)\n",
    "for file in dirs:\n",
    "    img = cv2.imread(\"Data/Dandelion/\"+file)\n",
    "    gray = cv2.cvtColor(img, cv2.COLOR_BGR2GRAY)\n",
    "    img_crop = crop_img(img, gray)\n",
    "    segmentation = segmentationB(img_crop)\n",
    "    segmentation_crop = mask(img_crop, segmentation)\n",
    "    img_resize = cv2.resize(segmentation_crop, (300,250))\n",
    "    cv2.imwrite(os.path.join(path ,file), img_resize)"
   ]
  },
  {
   "cell_type": "code",
   "execution_count": 22,
   "metadata": {},
   "outputs": [],
   "source": [
    "path = \"Segmentation Result/Coltsfoot\"\n",
    "dirs = os.listdir(path)\n",
    "for file in dirs:\n",
    "    img = cv2.imread(\"Data/Coltsfoot/\"+file)\n",
    "    gray = cv2.cvtColor(img, cv2.COLOR_BGR2GRAY)\n",
    "    img_crop = crop_img(img, gray)\n",
    "    segmentation = segmentationB(img_crop)\n",
    "    segmentation_crop = mask(img_crop, segmentation)\n",
    "    img_resize = cv2.resize(segmentation_crop, (300,250))\n",
    "    cv2.imwrite(os.path.join(path ,file), img_resize)"
   ]
  },
  {
   "cell_type": "code",
   "execution_count": 23,
   "metadata": {},
   "outputs": [],
   "source": [
    "path = \"Segmentation Result/Windflower\"\n",
    "dirs = os.listdir(path)\n",
    "for file in dirs:\n",
    "    img = cv2.imread(\"Data/Windflower/\"+file)\n",
    "    gray = cv2.cvtColor(img, cv2.COLOR_BGR2GRAY)\n",
    "    img_crop = crop_img(img, gray)\n",
    "    segmentation = segmentationL(img_crop)\n",
    "    segmentation_crop = mask(img_crop, segmentation)\n",
    "    img_resize = cv2.resize(segmentation_crop, (300,250))\n",
    "    cv2.imwrite(os.path.join(path ,file), img_resize)"
   ]
  }
 ],
 "metadata": {
  "kernelspec": {
   "display_name": "Python 3",
   "language": "python",
   "name": "python3"
  },
  "language_info": {
   "codemirror_mode": {
    "name": "ipython",
    "version": 3
   },
   "file_extension": ".py",
   "mimetype": "text/x-python",
   "name": "python",
   "nbconvert_exporter": "python",
   "pygments_lexer": "ipython3",
   "version": "3.6.5"
  }
 },
 "nbformat": 4,
 "nbformat_minor": 2
}
